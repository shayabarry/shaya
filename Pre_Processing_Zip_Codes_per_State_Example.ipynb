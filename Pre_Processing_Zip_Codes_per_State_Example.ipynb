{
  "nbformat": 4,
  "nbformat_minor": 0,
  "metadata": {
    "colab": {
      "name": "Pre-Processing Zip Codes per State Example.ipynb",
      "provenance": [],
      "collapsed_sections": [],
      "include_colab_link": true
    },
    "kernelspec": {
      "display_name": "Python 3",
      "name": "python3"
    }
  },
  "cells": [
    {
      "cell_type": "markdown",
      "metadata": {
        "id": "view-in-github",
        "colab_type": "text"
      },
      "source": [
        "<a href=\"https://colab.research.google.com/github/shayabarry/shaya/blob/master/Pre_Processing_Zip_Codes_per_State_Example.ipynb\" target=\"_parent\"><img src=\"https://colab.research.google.com/assets/colab-badge.svg\" alt=\"Open In Colab\"/></a>"
      ]
    },
    {
      "cell_type": "code",
      "metadata": {
        "colab": {
          "base_uri": "https://localhost:8080/"
        },
        "id": "NELzGz41LzcU",
        "outputId": "80fc5377-c27c-440f-e259-5f106431f3b9"
      },
      "source": [
        "from google.colab import drive\n",
        "from google.colab import files\n",
        "drive.mount('/content/drive')"
      ],
      "execution_count": 5,
      "outputs": [
        {
          "output_type": "stream",
          "text": [
            "Mounted at /content/drive\n"
          ],
          "name": "stdout"
        }
      ]
    },
    {
      "cell_type": "code",
      "metadata": {
        "id": "HRcMt4VCL2ms"
      },
      "source": [
        "import pandas as pd\n",
        "import numpy as np"
      ],
      "execution_count": 6,
      "outputs": []
    },
    {
      "cell_type": "markdown",
      "metadata": {
        "id": "gX_xgrryLQij"
      },
      "source": [
        "## Import Impressions data: called \"impressions\""
      ]
    },
    {
      "cell_type": "code",
      "metadata": {
        "id": "ByJM95r5MFYe"
      },
      "source": [
        "impressions_path = '/content/drive/MyDrive/Kinesso/US EDA/US Data Sources/impression_dataframes/impressions_'"
      ],
      "execution_count": 7,
      "outputs": []
    },
    {
      "cell_type": "code",
      "metadata": {
        "id": "VsHCHqfMM3Tg"
      },
      "source": [
        "# reads the U.S. advertisement impression dataset into the DataFrame \"impressions\" by iteratively concatenating files in groups of 25\n",
        "impressions = pd.read_pickle(impressions_path + \"0.pkl\")\n",
        "for i in range(16):\n",
        "  start = (25 * i) + 1\n",
        "  stop = start + 25\n",
        "  df_list = [pd.read_pickle(impressions_path + str(j) + \".pkl\") for j in range(start, stop)]\n",
        "  df_concat = pd.concat(df_list)\n",
        "  impressions = pd.concat([impressions, df_concat])\n",
        "  del df_list\n",
        "  del df_concat"
      ],
      "execution_count": 8,
      "outputs": []
    },
    {
      "cell_type": "code",
      "metadata": {
        "colab": {
          "base_uri": "https://localhost:8080/"
        },
        "id": "lHVFOye1Nzfp",
        "outputId": "ab11f74f-9cb2-4f1d-c1f4-591f3c482773"
      },
      "source": [
        "impressions.shape"
      ],
      "execution_count": null,
      "outputs": [
        {
          "output_type": "execute_result",
          "data": {
            "text/plain": [
              "(20050000, 20)"
            ]
          },
          "metadata": {
            "tags": []
          },
          "execution_count": 7
        }
      ]
    },
    {
      "cell_type": "code",
      "metadata": {
        "colab": {
          "base_uri": "https://localhost:8080/"
        },
        "id": "9AZJJJj_oiGn",
        "outputId": "76a12344-5a3e-4858-fce7-66d9f8c6cd4a"
      },
      "source": [
        "impressions.columns"
      ],
      "execution_count": null,
      "outputs": [
        {
          "output_type": "execute_result",
          "data": {
            "text/plain": [
              "Index(['impression_id', 'campaign_id', 'ad_group_id', 'audience_id',\n",
              "       'supply_vendor', 'user_agent', 'region', 'city', 'device_type',\n",
              "       'os_family', 'os', 'browser', 'media_cost', 'ttd_cost_in_usd',\n",
              "       'partner_cost_in_usd', 'advertiser_cost_in_usd', 'zip_code',\n",
              "       'device_make', 'device_model', 'carrier_id'],\n",
              "      dtype='object')"
            ]
          },
          "metadata": {
            "tags": []
          },
          "execution_count": 24
        }
      ]
    },
    {
      "cell_type": "markdown",
      "metadata": {
        "id": "eE9EOfoNOLvq"
      },
      "source": [
        "Data Cleaning"
      ]
    },
    {
      "cell_type": "code",
      "metadata": {
        "colab": {
          "base_uri": "https://localhost:8080/",
          "height": 394
        },
        "id": "GEd5RsedRHFz",
        "outputId": "35def3e5-729a-49c3-a5db-5a19c43d5b44"
      },
      "source": [
        "impressions.dropna(subset=['zip_code'], inplace=True)\n",
        "impressions.reset_index(drop=True, inplace=True)\n",
        "impressions.head()"
      ],
      "execution_count": 17,
      "outputs": [
        {
          "output_type": "execute_result",
          "data": {
            "text/html": [
              "<div>\n",
              "<style scoped>\n",
              "    .dataframe tbody tr th:only-of-type {\n",
              "        vertical-align: middle;\n",
              "    }\n",
              "\n",
              "    .dataframe tbody tr th {\n",
              "        vertical-align: top;\n",
              "    }\n",
              "\n",
              "    .dataframe thead th {\n",
              "        text-align: right;\n",
              "    }\n",
              "</style>\n",
              "<table border=\"1\" class=\"dataframe\">\n",
              "  <thead>\n",
              "    <tr style=\"text-align: right;\">\n",
              "      <th></th>\n",
              "      <th>impression_id</th>\n",
              "      <th>campaign_id</th>\n",
              "      <th>ad_group_id</th>\n",
              "      <th>audience_id</th>\n",
              "      <th>supply_vendor</th>\n",
              "      <th>user_agent</th>\n",
              "      <th>region</th>\n",
              "      <th>city</th>\n",
              "      <th>device_type</th>\n",
              "      <th>os_family</th>\n",
              "      <th>os</th>\n",
              "      <th>browser</th>\n",
              "      <th>media_cost</th>\n",
              "      <th>ttd_cost_in_usd</th>\n",
              "      <th>partner_cost_in_usd</th>\n",
              "      <th>advertiser_cost_in_usd</th>\n",
              "      <th>zip_code</th>\n",
              "      <th>device_make</th>\n",
              "      <th>device_model</th>\n",
              "      <th>carrier_id</th>\n",
              "    </tr>\n",
              "  </thead>\n",
              "  <tbody>\n",
              "    <tr>\n",
              "      <th>0</th>\n",
              "      <td>feeb8dbc-212a-4fba-8f8e-322431e625bf</td>\n",
              "      <td>el02c6n</td>\n",
              "      <td>exazlvq</td>\n",
              "      <td>NaN</td>\n",
              "      <td>Telaria</td>\n",
              "      <td>Roku/DVP-9.30 (489.30E04194A)</td>\n",
              "      <td>Minnesota</td>\n",
              "      <td>Minneapolis</td>\n",
              "      <td>6</td>\n",
              "      <td>1.0</td>\n",
              "      <td>101.0</td>\n",
              "      <td>1.0</td>\n",
              "      <td>0.01877</td>\n",
              "      <td>0.01877</td>\n",
              "      <td>0.019609</td>\n",
              "      <td>0.019609</td>\n",
              "      <td>55405.0</td>\n",
              "      <td>Roku</td>\n",
              "      <td>Digital Video player</td>\n",
              "      <td>NaN</td>\n",
              "    </tr>\n",
              "    <tr>\n",
              "      <th>1</th>\n",
              "      <td>b768bf1c-a433-44a1-9614-87f983118c94</td>\n",
              "      <td>pey7wjw</td>\n",
              "      <td>fcucjsu</td>\n",
              "      <td>1qh4zg7</td>\n",
              "      <td>freewheel</td>\n",
              "      <td>Roku/DVP-9.30 (509.30E04194A)</td>\n",
              "      <td>California</td>\n",
              "      <td>Oceanside</td>\n",
              "      <td>6</td>\n",
              "      <td>1.0</td>\n",
              "      <td>101.0</td>\n",
              "      <td>1.0</td>\n",
              "      <td>0.03840</td>\n",
              "      <td>0.03840</td>\n",
              "      <td>0.042422</td>\n",
              "      <td>0.042422</td>\n",
              "      <td>92056.0</td>\n",
              "      <td>Roku</td>\n",
              "      <td>Digital Video player</td>\n",
              "      <td>NaN</td>\n",
              "    </tr>\n",
              "    <tr>\n",
              "      <th>2</th>\n",
              "      <td>742e59e3-9283-4f32-81eb-7ccfe01e13ae</td>\n",
              "      <td>pey7wjw</td>\n",
              "      <td>fcucjsu</td>\n",
              "      <td>1qh4zg7</td>\n",
              "      <td>freewheel</td>\n",
              "      <td>Roku/DVP-9.30 (519.30E04194A)</td>\n",
              "      <td>Kentucky</td>\n",
              "      <td>Lancaster</td>\n",
              "      <td>6</td>\n",
              "      <td>1.0</td>\n",
              "      <td>101.0</td>\n",
              "      <td>1.0</td>\n",
              "      <td>0.03840</td>\n",
              "      <td>0.03840</td>\n",
              "      <td>0.042422</td>\n",
              "      <td>0.042422</td>\n",
              "      <td>40444.0</td>\n",
              "      <td>Roku</td>\n",
              "      <td>Digital Video player</td>\n",
              "      <td>NaN</td>\n",
              "    </tr>\n",
              "    <tr>\n",
              "      <th>3</th>\n",
              "      <td>9c298ba2-32e8-4a6e-adad-32f2f004bb95</td>\n",
              "      <td>pey7wjw</td>\n",
              "      <td>fcucjsu</td>\n",
              "      <td>1qh4zg7</td>\n",
              "      <td>freewheel</td>\n",
              "      <td>Roku/DVP-9.30 (919.30E04194A)</td>\n",
              "      <td>California</td>\n",
              "      <td>Los Osos</td>\n",
              "      <td>6</td>\n",
              "      <td>1.0</td>\n",
              "      <td>101.0</td>\n",
              "      <td>1.0</td>\n",
              "      <td>0.03840</td>\n",
              "      <td>0.03840</td>\n",
              "      <td>0.042422</td>\n",
              "      <td>0.042422</td>\n",
              "      <td>93402.0</td>\n",
              "      <td>Roku</td>\n",
              "      <td>Digital Video player</td>\n",
              "      <td>NaN</td>\n",
              "    </tr>\n",
              "    <tr>\n",
              "      <th>4</th>\n",
              "      <td>66cea51b-267b-4a2e-96c0-fcd276e2521c</td>\n",
              "      <td>el02c6n</td>\n",
              "      <td>exazlvq</td>\n",
              "      <td>NaN</td>\n",
              "      <td>Telaria</td>\n",
              "      <td>Roku/DVP-9.30 (319.30E04194A)</td>\n",
              "      <td>Pennsylvania</td>\n",
              "      <td>Philadelphia</td>\n",
              "      <td>6</td>\n",
              "      <td>1.0</td>\n",
              "      <td>101.0</td>\n",
              "      <td>1.0</td>\n",
              "      <td>0.01877</td>\n",
              "      <td>0.01877</td>\n",
              "      <td>0.019609</td>\n",
              "      <td>0.019609</td>\n",
              "      <td>19128.0</td>\n",
              "      <td>Roku</td>\n",
              "      <td>Digital Video player</td>\n",
              "      <td>NaN</td>\n",
              "    </tr>\n",
              "  </tbody>\n",
              "</table>\n",
              "</div>"
            ],
            "text/plain": [
              "                          impression_id  ... carrier_id\n",
              "0  feeb8dbc-212a-4fba-8f8e-322431e625bf  ...        NaN\n",
              "1  b768bf1c-a433-44a1-9614-87f983118c94  ...        NaN\n",
              "2  742e59e3-9283-4f32-81eb-7ccfe01e13ae  ...        NaN\n",
              "3  9c298ba2-32e8-4a6e-adad-32f2f004bb95  ...        NaN\n",
              "4  66cea51b-267b-4a2e-96c0-fcd276e2521c  ...        NaN\n",
              "\n",
              "[5 rows x 20 columns]"
            ]
          },
          "metadata": {
            "tags": []
          },
          "execution_count": 17
        }
      ]
    },
    {
      "cell_type": "markdown",
      "metadata": {
        "id": "gLbmSAfNLVyn"
      },
      "source": [
        "## Import demographic Data: called \"demo\""
      ]
    },
    {
      "cell_type": "code",
      "metadata": {
        "id": "z9ZX8AciYn-F"
      },
      "source": [
        "demo_path = '/content/drive/MyDrive/Kinesso/US EDA/US Data Sources/zip_age_ethnicity_income_data/demo_data_'"
      ],
      "execution_count": 9,
      "outputs": []
    },
    {
      "cell_type": "code",
      "metadata": {
        "id": "eEsGmFR3Q-_S"
      },
      "source": [
        "## we need to rename column names, they were just placeholders. i.e. number2 should be titled differenty, etc.\n",
        "\n",
        "demo = pd.DataFrame(columns = ['zip_code', 'age', 'ethnicity', 'income', 'count']) \n",
        "for i in range(19):\n",
        "  start = (20 * i) + 1\n",
        "  stop = start + 20\n",
        "  demo_df_list = [pd.read_csv(demo_path + str(j) + '.csv').set_axis(['zip_code', 'age', 'ethnicity', 'income', 'count'], axis='columns') for j in range(start, stop)]\n",
        "  demo_df_concat = pd.concat(demo_df_list)\n",
        "  demo = pd.concat([demo, demo_df_concat])\n",
        "  del demo_df_list\n",
        "  del demo_df_concat"
      ],
      "execution_count": 10,
      "outputs": []
    },
    {
      "cell_type": "code",
      "metadata": {
        "id": "-3UopPcAZPyG",
        "colab": {
          "base_uri": "https://localhost:8080/",
          "height": 204
        },
        "outputId": "e88989be-56f5-40cc-a7bb-11ba70b87d95"
      },
      "source": [
        "demo.head()"
      ],
      "execution_count": 11,
      "outputs": [
        {
          "output_type": "execute_result",
          "data": {
            "text/html": [
              "<div>\n",
              "<style scoped>\n",
              "    .dataframe tbody tr th:only-of-type {\n",
              "        vertical-align: middle;\n",
              "    }\n",
              "\n",
              "    .dataframe tbody tr th {\n",
              "        vertical-align: top;\n",
              "    }\n",
              "\n",
              "    .dataframe thead th {\n",
              "        text-align: right;\n",
              "    }\n",
              "</style>\n",
              "<table border=\"1\" class=\"dataframe\">\n",
              "  <thead>\n",
              "    <tr style=\"text-align: right;\">\n",
              "      <th></th>\n",
              "      <th>zip_code</th>\n",
              "      <th>age</th>\n",
              "      <th>ethnicity</th>\n",
              "      <th>income</th>\n",
              "      <th>count</th>\n",
              "    </tr>\n",
              "  </thead>\n",
              "  <tbody>\n",
              "    <tr>\n",
              "      <th>0</th>\n",
              "      <td>601</td>\n",
              "      <td>18-23</td>\n",
              "      <td>Hispanic</td>\n",
              "      <td>$1,000 - $14,999</td>\n",
              "      <td>1</td>\n",
              "    </tr>\n",
              "    <tr>\n",
              "      <th>1</th>\n",
              "      <td>601</td>\n",
              "      <td>24-29</td>\n",
              "      <td>Hispanic</td>\n",
              "      <td>$1,000 - $14,999</td>\n",
              "      <td>5</td>\n",
              "    </tr>\n",
              "    <tr>\n",
              "      <th>2</th>\n",
              "      <td>601</td>\n",
              "      <td>24-29</td>\n",
              "      <td>White</td>\n",
              "      <td>$1,000 - $14,999</td>\n",
              "      <td>2</td>\n",
              "    </tr>\n",
              "    <tr>\n",
              "      <th>3</th>\n",
              "      <td>601</td>\n",
              "      <td>30-35</td>\n",
              "      <td>Hispanic</td>\n",
              "      <td>$1,000 - $14,999</td>\n",
              "      <td>20</td>\n",
              "    </tr>\n",
              "    <tr>\n",
              "      <th>4</th>\n",
              "      <td>601</td>\n",
              "      <td>30-35</td>\n",
              "      <td>Hispanic</td>\n",
              "      <td>$15,000 - $19,999</td>\n",
              "      <td>1</td>\n",
              "    </tr>\n",
              "  </tbody>\n",
              "</table>\n",
              "</div>"
            ],
            "text/plain": [
              "  zip_code    age ethnicity             income count\n",
              "0      601  18-23  Hispanic   $1,000 - $14,999     1\n",
              "1      601  24-29  Hispanic   $1,000 - $14,999     5\n",
              "2      601  24-29     White   $1,000 - $14,999     2\n",
              "3      601  30-35  Hispanic   $1,000 - $14,999    20\n",
              "4      601  30-35  Hispanic  $15,000 - $19,999     1"
            ]
          },
          "metadata": {
            "tags": []
          },
          "execution_count": 11
        }
      ]
    },
    {
      "cell_type": "markdown",
      "metadata": {
        "id": "Xqi0IQjTRAOF"
      },
      "source": [
        "## Pre processing for Tableau \n",
        "Because the datasets are so large creating a long run time, we have selected a couple sample states instead to create visualizations instead that we would like to iterate through the remaining states.  These show the types of visualizations that could be useful in continuing to understand the distributions.\n",
        "\n"
      ]
    },
    {
      "cell_type": "markdown",
      "metadata": {
        "id": "7iGvfLPzsR7c"
      },
      "source": [
        "Replace incomes with ordered numbers 1-14 "
      ]
    },
    {
      "cell_type": "code",
      "metadata": {
        "id": "A3YPALrPrpX7"
      },
      "source": [
        "demo['income'] = demo['income'].replace('not_reported', 1)\n",
        "demo['income'] = demo['income'].replace('$1,000 - $14,999', 2)\n",
        "demo['income'] = demo['income'].replace('$15,000 - $19,999', 3)\n",
        "demo['income'] = demo['income'].replace('$20,000 - $29,999', 4)\n",
        "demo['income'] = demo['income'].replace('$30,000 - $39,999', 5)\n",
        "demo['income'] = demo['income'].replace('$40,000 - $49,999', 6)\n",
        "demo['income'] = demo['income'].replace('$50,000 - $74,999', 7)\n",
        "demo['income'] = demo['income'].replace('$75,000 - $99,999', 8)\n",
        "demo['income'] = demo['income'].replace('$100,000 - $124,999', 9)\n",
        "demo['income'] = demo['income'].replace('$125,000 - $149,999', 10)\n",
        "demo['income'] = demo['income'].replace('$150,000 - $174,999', 11)\n",
        "demo['income'] = demo['income'].replace('$175,000 - $199,999', 12)\n",
        "demo['income'] = demo['income'].replace('$200,000 - $249,999', 13)\n",
        "demo['income'] = demo['income'].replace('$250,000 or greater', 14)"
      ],
      "execution_count": 12,
      "outputs": []
    },
    {
      "cell_type": "markdown",
      "metadata": {
        "id": "tO-bfOowsfVg"
      },
      "source": [
        "##Select One State from impressions: Ex. Iowa"
      ]
    },
    {
      "cell_type": "code",
      "metadata": {
        "id": "efGw5KlmrtKA"
      },
      "source": [
        "imp_Iowa = impressions[impressions['region']=='Iowa']"
      ],
      "execution_count": 13,
      "outputs": []
    },
    {
      "cell_type": "code",
      "metadata": {
        "colab": {
          "base_uri": "https://localhost:8080/"
        },
        "id": "6mbOjWa8t1et",
        "outputId": "299ffe9f-fc44-4aab-e281-715072dce68c"
      },
      "source": [
        "impression_count = impressions[impressions['region'] == 'Iowa'][['zip_code']].value_counts()\n",
        "impression_count"
      ],
      "execution_count": 14,
      "outputs": [
        {
          "output_type": "execute_result",
          "data": {
            "text/plain": [
              "zip_code\n",
              "50310.0     5503\n",
              "52722.0     4820\n",
              "52402.0     4012\n",
              "50266.0     3207\n",
              "50701.0     3142\n",
              "            ... \n",
              "52534.0        1\n",
              "52406.0        1\n",
              "52359.0        1\n",
              "52652.0        1\n",
              "50552.0        1\n",
              "Length: 820, dtype: int64"
            ]
          },
          "metadata": {
            "tags": []
          },
          "execution_count": 14
        }
      ]
    },
    {
      "cell_type": "code",
      "metadata": {
        "id": "myGdy_AJt529"
      },
      "source": [
        "impression_count.to_csv('/content/drive/MyDrive/Kinesso/imp_pop_zip_iowa.csv') "
      ],
      "execution_count": null,
      "outputs": []
    },
    {
      "cell_type": "code",
      "metadata": {
        "id": "ua0Fj45xsuMy"
      },
      "source": [
        "imp_Iowa.to_csv('/content/drive/MyDrive/Kinesso/imp_Iowa.csv')"
      ],
      "execution_count": null,
      "outputs": []
    },
    {
      "cell_type": "markdown",
      "metadata": {
        "id": "wPrRbgt7y2rc"
      },
      "source": [
        "Because Region does not exist in the demographic data, map the values from the impression dataset to the demographic dataset in order to find zip codes from that corresponding region."
      ]
    },
    {
      "cell_type": "code",
      "metadata": {
        "colab": {
          "base_uri": "https://localhost:8080/",
          "height": 419
        },
        "id": "NFm_pBZmycJk",
        "outputId": "9f861bca-79b1-456a-d519-6249176179fb"
      },
      "source": [
        "region = impressions[['region', 'zip_code']].drop_duplicates()\n",
        "map_zip_to_region = region.set_index('zip_code').to_dict().get('region')\n",
        "\n",
        "demo['region'] = demo['zip_code'].map(map_zip_to_region)\n",
        "demo.dropna()"
      ],
      "execution_count": 18,
      "outputs": [
        {
          "output_type": "execute_result",
          "data": {
            "text/html": [
              "<div>\n",
              "<style scoped>\n",
              "    .dataframe tbody tr th:only-of-type {\n",
              "        vertical-align: middle;\n",
              "    }\n",
              "\n",
              "    .dataframe tbody tr th {\n",
              "        vertical-align: top;\n",
              "    }\n",
              "\n",
              "    .dataframe thead th {\n",
              "        text-align: right;\n",
              "    }\n",
              "</style>\n",
              "<table border=\"1\" class=\"dataframe\">\n",
              "  <thead>\n",
              "    <tr style=\"text-align: right;\">\n",
              "      <th></th>\n",
              "      <th>zip_code</th>\n",
              "      <th>age</th>\n",
              "      <th>ethnicity</th>\n",
              "      <th>income</th>\n",
              "      <th>count</th>\n",
              "      <th>region</th>\n",
              "    </tr>\n",
              "  </thead>\n",
              "  <tbody>\n",
              "    <tr>\n",
              "      <th>19217</th>\n",
              "      <td>1001</td>\n",
              "      <td>18-23</td>\n",
              "      <td>African American</td>\n",
              "      <td>10</td>\n",
              "      <td>1</td>\n",
              "      <td>Massachusetts</td>\n",
              "    </tr>\n",
              "    <tr>\n",
              "      <th>19218</th>\n",
              "      <td>1001</td>\n",
              "      <td>18-23</td>\n",
              "      <td>African American</td>\n",
              "      <td>4</td>\n",
              "      <td>4</td>\n",
              "      <td>Massachusetts</td>\n",
              "    </tr>\n",
              "    <tr>\n",
              "      <th>19219</th>\n",
              "      <td>1001</td>\n",
              "      <td>18-23</td>\n",
              "      <td>African American</td>\n",
              "      <td>5</td>\n",
              "      <td>1</td>\n",
              "      <td>Massachusetts</td>\n",
              "    </tr>\n",
              "    <tr>\n",
              "      <th>19220</th>\n",
              "      <td>1001</td>\n",
              "      <td>18-23</td>\n",
              "      <td>African American</td>\n",
              "      <td>7</td>\n",
              "      <td>2</td>\n",
              "      <td>Massachusetts</td>\n",
              "    </tr>\n",
              "    <tr>\n",
              "      <th>19221</th>\n",
              "      <td>1001</td>\n",
              "      <td>18-23</td>\n",
              "      <td>Asian</td>\n",
              "      <td>4</td>\n",
              "      <td>1</td>\n",
              "      <td>Massachusetts</td>\n",
              "    </tr>\n",
              "    <tr>\n",
              "      <th>...</th>\n",
              "      <td>...</td>\n",
              "      <td>...</td>\n",
              "      <td>...</td>\n",
              "      <td>...</td>\n",
              "      <td>...</td>\n",
              "      <td>...</td>\n",
              "    </tr>\n",
              "    <tr>\n",
              "      <th>20902</th>\n",
              "      <td>99693</td>\n",
              "      <td>66 and above</td>\n",
              "      <td>Asian</td>\n",
              "      <td>2</td>\n",
              "      <td>2</td>\n",
              "      <td>Alaska</td>\n",
              "    </tr>\n",
              "    <tr>\n",
              "      <th>20903</th>\n",
              "      <td>99693</td>\n",
              "      <td>66 and above</td>\n",
              "      <td>Asian</td>\n",
              "      <td>5</td>\n",
              "      <td>2</td>\n",
              "      <td>Alaska</td>\n",
              "    </tr>\n",
              "    <tr>\n",
              "      <th>20904</th>\n",
              "      <td>99693</td>\n",
              "      <td>66 and above</td>\n",
              "      <td>Asian</td>\n",
              "      <td>7</td>\n",
              "      <td>1</td>\n",
              "      <td>Alaska</td>\n",
              "    </tr>\n",
              "    <tr>\n",
              "      <th>20905</th>\n",
              "      <td>99693</td>\n",
              "      <td>66 and above</td>\n",
              "      <td>Hispanic</td>\n",
              "      <td>2</td>\n",
              "      <td>2</td>\n",
              "      <td>Alaska</td>\n",
              "    </tr>\n",
              "    <tr>\n",
              "      <th>20906</th>\n",
              "      <td>99693</td>\n",
              "      <td>66 and above</td>\n",
              "      <td>White</td>\n",
              "      <td>2</td>\n",
              "      <td>4</td>\n",
              "      <td>Alaska</td>\n",
              "    </tr>\n",
              "  </tbody>\n",
              "</table>\n",
              "<p>6768328 rows × 6 columns</p>\n",
              "</div>"
            ],
            "text/plain": [
              "      zip_code           age         ethnicity  income count         region\n",
              "19217     1001         18-23  African American      10     1  Massachusetts\n",
              "19218     1001         18-23  African American       4     4  Massachusetts\n",
              "19219     1001         18-23  African American       5     1  Massachusetts\n",
              "19220     1001         18-23  African American       7     2  Massachusetts\n",
              "19221     1001         18-23             Asian       4     1  Massachusetts\n",
              "...        ...           ...               ...     ...   ...            ...\n",
              "20902    99693  66 and above             Asian       2     2         Alaska\n",
              "20903    99693  66 and above             Asian       5     2         Alaska\n",
              "20904    99693  66 and above             Asian       7     1         Alaska\n",
              "20905    99693  66 and above          Hispanic       2     2         Alaska\n",
              "20906    99693  66 and above             White       2     4         Alaska\n",
              "\n",
              "[6768328 rows x 6 columns]"
            ]
          },
          "metadata": {
            "tags": []
          },
          "execution_count": 18
        }
      ]
    },
    {
      "cell_type": "markdown",
      "metadata": {
        "id": "M9gIAUf9smSG"
      },
      "source": [
        "## Select One State from demographic data: Ex. Iowa\n",
        "In this state, grouping zip codes and aggregating by their counts allows us to visualize the population in each zip code frmo this demographic data."
      ]
    },
    {
      "cell_type": "code",
      "metadata": {
        "id": "4CpOXrn0rwbK"
      },
      "source": [
        "demo_Iowa = demo[demo['region']=='Iowa']\n",
        "demo_pop_by_zip_iowa = demo_Iowa.groupby(['zip_code']).agg({'count': 'sum'})\n",
        "demo_pop_by_zip_iowa.rename(columns={\"count\": \"household_count\"}, inplace=True)"
      ],
      "execution_count": 19,
      "outputs": []
    },
    {
      "cell_type": "code",
      "metadata": {
        "id": "oWUSoCe-wi7E"
      },
      "source": [
        "demo_pop_by_zip_iowa.to_csv('/content/drive/MyDrive/Kinesso/demo_pop_zip_iowa.csv')"
      ],
      "execution_count": 20,
      "outputs": []
    },
    {
      "cell_type": "code",
      "metadata": {
        "id": "uiDW72d5ZUcA"
      },
      "source": [
        "demo_pop = demo[demo['region']=='Nevada']['count'].sum()"
      ],
      "execution_count": null,
      "outputs": []
    },
    {
      "cell_type": "markdown",
      "metadata": {
        "id": "r8kY7nu0uDCo"
      },
      "source": [
        "## Find State Expected and Observed Frequencies to Visualize in Tableau\n",
        "Because we notice Nevada has a high bias coefficient, we would like to further investigate the zip codes in Nevada and their frequency distribution comparisons.  Thus this pre processed table below looks at zip codes located specifically in Nevada.  The first code aggregates the population in each zip code as found in the demographic data and then finds its frequency by dividing by the total population.  We then find the zip codes associated frequencies in the impressions dataset by aggregating impressions by zip code and dividing by the total number of impressions."
      ]
    },
    {
      "cell_type": "code",
      "metadata": {
        "colab": {
          "base_uri": "https://localhost:8080/",
          "height": 235
        },
        "id": "ftVv1nCwiJDI",
        "outputId": "d58525bf-fc19-4a39-ea27-c59449ae9171"
      },
      "source": [
        "demo_pop = demo[demo['region']=='Nevada']['count'].sum()\n",
        "demo_nevada = demo[demo['region']=='Nevada']\n",
        "\n",
        "demo_pop_by_zip = demo_nevada.groupby(['zip_code']).agg({'count': 'sum'})\n",
        "demo_pop_by_zip.rename(columns={\"count\": \"household_count\"}, inplace=True)\n",
        "\n",
        "demo_pop_by_zip['household_count'] = demo_pop_by_zip['household_count'].astype(float)\n",
        "demo_pop_by_zip['expected_zip_freq'] = demo_pop_by_zip['household_count'] / demo_pop\n",
        "demo_pop_by_zip.head()"
      ],
      "execution_count": 24,
      "outputs": [
        {
          "output_type": "execute_result",
          "data": {
            "text/html": [
              "<div>\n",
              "<style scoped>\n",
              "    .dataframe tbody tr th:only-of-type {\n",
              "        vertical-align: middle;\n",
              "    }\n",
              "\n",
              "    .dataframe tbody tr th {\n",
              "        vertical-align: top;\n",
              "    }\n",
              "\n",
              "    .dataframe thead th {\n",
              "        text-align: right;\n",
              "    }\n",
              "</style>\n",
              "<table border=\"1\" class=\"dataframe\">\n",
              "  <thead>\n",
              "    <tr style=\"text-align: right;\">\n",
              "      <th></th>\n",
              "      <th>household_count</th>\n",
              "      <th>expected_zip_freq</th>\n",
              "    </tr>\n",
              "    <tr>\n",
              "      <th>zip_code</th>\n",
              "      <th></th>\n",
              "      <th></th>\n",
              "    </tr>\n",
              "  </thead>\n",
              "  <tbody>\n",
              "    <tr>\n",
              "      <th>89001</th>\n",
              "      <td>656.0</td>\n",
              "      <td>0.000311</td>\n",
              "    </tr>\n",
              "    <tr>\n",
              "      <th>89002</th>\n",
              "      <td>29904.0</td>\n",
              "      <td>0.014158</td>\n",
              "    </tr>\n",
              "    <tr>\n",
              "      <th>89003</th>\n",
              "      <td>493.0</td>\n",
              "      <td>0.000233</td>\n",
              "    </tr>\n",
              "    <tr>\n",
              "      <th>89005</th>\n",
              "      <td>13193.0</td>\n",
              "      <td>0.006246</td>\n",
              "    </tr>\n",
              "    <tr>\n",
              "      <th>89007</th>\n",
              "      <td>619.0</td>\n",
              "      <td>0.000293</td>\n",
              "    </tr>\n",
              "  </tbody>\n",
              "</table>\n",
              "</div>"
            ],
            "text/plain": [
              "          household_count  expected_zip_freq\n",
              "zip_code                                    \n",
              "89001               656.0           0.000311\n",
              "89002             29904.0           0.014158\n",
              "89003               493.0           0.000233\n",
              "89005             13193.0           0.006246\n",
              "89007               619.0           0.000293"
            ]
          },
          "metadata": {
            "tags": []
          },
          "execution_count": 24
        }
      ]
    },
    {
      "cell_type": "code",
      "metadata": {
        "colab": {
          "base_uri": "https://localhost:8080/",
          "height": 235
        },
        "id": "X3YGcTEaiU17",
        "outputId": "f091702d-9386-4202-896b-6fb5142435ef"
      },
      "source": [
        "imp_by_zip = pd.DataFrame(impressions[impressions['region']=='Nevada']['zip_code'].value_counts()).reset_index().rename(columns={\"zip_code\": \"impression_count\", \"index\": \"zip_code\"})\n",
        "imp_by_zip['zip_code'] = imp_by_zip['zip_code'].astype(int)\n",
        "imp_by_zip.set_index('zip_code', inplace=True)\n",
        "imp_by_zip['observed_zip_freq'] = impressions[impressions['region']=='Nevada']['zip_code'].value_counts(normalize=True)\n",
        "imp_by_zip.head()"
      ],
      "execution_count": 25,
      "outputs": [
        {
          "output_type": "execute_result",
          "data": {
            "text/html": [
              "<div>\n",
              "<style scoped>\n",
              "    .dataframe tbody tr th:only-of-type {\n",
              "        vertical-align: middle;\n",
              "    }\n",
              "\n",
              "    .dataframe tbody tr th {\n",
              "        vertical-align: top;\n",
              "    }\n",
              "\n",
              "    .dataframe thead th {\n",
              "        text-align: right;\n",
              "    }\n",
              "</style>\n",
              "<table border=\"1\" class=\"dataframe\">\n",
              "  <thead>\n",
              "    <tr style=\"text-align: right;\">\n",
              "      <th></th>\n",
              "      <th>impression_count</th>\n",
              "      <th>observed_zip_freq</th>\n",
              "    </tr>\n",
              "    <tr>\n",
              "      <th>zip_code</th>\n",
              "      <th></th>\n",
              "      <th></th>\n",
              "    </tr>\n",
              "  </thead>\n",
              "  <tbody>\n",
              "    <tr>\n",
              "      <th>89110</th>\n",
              "      <td>6848</td>\n",
              "      <td>0.038320</td>\n",
              "    </tr>\n",
              "    <tr>\n",
              "      <th>89108</th>\n",
              "      <td>5789</td>\n",
              "      <td>0.032394</td>\n",
              "    </tr>\n",
              "    <tr>\n",
              "      <th>89129</th>\n",
              "      <td>5730</td>\n",
              "      <td>0.032064</td>\n",
              "    </tr>\n",
              "    <tr>\n",
              "      <th>89031</th>\n",
              "      <td>5366</td>\n",
              "      <td>0.030027</td>\n",
              "    </tr>\n",
              "    <tr>\n",
              "      <th>89107</th>\n",
              "      <td>4260</td>\n",
              "      <td>0.023838</td>\n",
              "    </tr>\n",
              "  </tbody>\n",
              "</table>\n",
              "</div>"
            ],
            "text/plain": [
              "          impression_count  observed_zip_freq\n",
              "zip_code                                     \n",
              "89110                 6848           0.038320\n",
              "89108                 5789           0.032394\n",
              "89129                 5730           0.032064\n",
              "89031                 5366           0.030027\n",
              "89107                 4260           0.023838"
            ]
          },
          "metadata": {
            "tags": []
          },
          "execution_count": 25
        }
      ]
    },
    {
      "cell_type": "code",
      "metadata": {
        "colab": {
          "base_uri": "https://localhost:8080/",
          "height": 450
        },
        "id": "RuPHkfRIimF5",
        "outputId": "2d3e7da2-3cb1-4cb6-b6bd-90620136bff8"
      },
      "source": [
        "nevada_zip_freq = imp_by_zip.join(demo_pop_by_zip)\n",
        "nevada_zip_freq"
      ],
      "execution_count": 26,
      "outputs": [
        {
          "output_type": "execute_result",
          "data": {
            "text/html": [
              "<div>\n",
              "<style scoped>\n",
              "    .dataframe tbody tr th:only-of-type {\n",
              "        vertical-align: middle;\n",
              "    }\n",
              "\n",
              "    .dataframe tbody tr th {\n",
              "        vertical-align: top;\n",
              "    }\n",
              "\n",
              "    .dataframe thead th {\n",
              "        text-align: right;\n",
              "    }\n",
              "</style>\n",
              "<table border=\"1\" class=\"dataframe\">\n",
              "  <thead>\n",
              "    <tr style=\"text-align: right;\">\n",
              "      <th></th>\n",
              "      <th>impression_count</th>\n",
              "      <th>observed_zip_freq</th>\n",
              "      <th>household_count</th>\n",
              "      <th>expected_zip_freq</th>\n",
              "    </tr>\n",
              "    <tr>\n",
              "      <th>zip_code</th>\n",
              "      <th></th>\n",
              "      <th></th>\n",
              "      <th></th>\n",
              "      <th></th>\n",
              "    </tr>\n",
              "  </thead>\n",
              "  <tbody>\n",
              "    <tr>\n",
              "      <th>89110</th>\n",
              "      <td>6848</td>\n",
              "      <td>0.038320</td>\n",
              "      <td>50480.0</td>\n",
              "      <td>0.023899</td>\n",
              "    </tr>\n",
              "    <tr>\n",
              "      <th>89108</th>\n",
              "      <td>5789</td>\n",
              "      <td>0.032394</td>\n",
              "      <td>NaN</td>\n",
              "      <td>NaN</td>\n",
              "    </tr>\n",
              "    <tr>\n",
              "      <th>89129</th>\n",
              "      <td>5730</td>\n",
              "      <td>0.032064</td>\n",
              "      <td>43971.0</td>\n",
              "      <td>0.020818</td>\n",
              "    </tr>\n",
              "    <tr>\n",
              "      <th>89031</th>\n",
              "      <td>5366</td>\n",
              "      <td>0.030027</td>\n",
              "      <td>55833.0</td>\n",
              "      <td>0.026434</td>\n",
              "    </tr>\n",
              "    <tr>\n",
              "      <th>89107</th>\n",
              "      <td>4260</td>\n",
              "      <td>0.023838</td>\n",
              "      <td>28729.0</td>\n",
              "      <td>0.013602</td>\n",
              "    </tr>\n",
              "    <tr>\n",
              "      <th>...</th>\n",
              "      <td>...</td>\n",
              "      <td>...</td>\n",
              "      <td>...</td>\n",
              "      <td>...</td>\n",
              "    </tr>\n",
              "    <tr>\n",
              "      <th>89822</th>\n",
              "      <td>1</td>\n",
              "      <td>0.000006</td>\n",
              "      <td>1205.0</td>\n",
              "      <td>0.000570</td>\n",
              "    </tr>\n",
              "    <tr>\n",
              "      <th>89126</th>\n",
              "      <td>1</td>\n",
              "      <td>0.000006</td>\n",
              "      <td>462.0</td>\n",
              "      <td>0.000219</td>\n",
              "    </tr>\n",
              "    <tr>\n",
              "      <th>89432</th>\n",
              "      <td>1</td>\n",
              "      <td>0.000006</td>\n",
              "      <td>1033.0</td>\n",
              "      <td>0.000489</td>\n",
              "    </tr>\n",
              "    <tr>\n",
              "      <th>89311</th>\n",
              "      <td>1</td>\n",
              "      <td>0.000006</td>\n",
              "      <td>125.0</td>\n",
              "      <td>0.000059</td>\n",
              "    </tr>\n",
              "    <tr>\n",
              "      <th>89154</th>\n",
              "      <td>1</td>\n",
              "      <td>0.000006</td>\n",
              "      <td>23.0</td>\n",
              "      <td>0.000011</td>\n",
              "    </tr>\n",
              "  </tbody>\n",
              "</table>\n",
              "<p>160 rows × 4 columns</p>\n",
              "</div>"
            ],
            "text/plain": [
              "          impression_count  ...  expected_zip_freq\n",
              "zip_code                    ...                   \n",
              "89110                 6848  ...           0.023899\n",
              "89108                 5789  ...                NaN\n",
              "89129                 5730  ...           0.020818\n",
              "89031                 5366  ...           0.026434\n",
              "89107                 4260  ...           0.013602\n",
              "...                    ...  ...                ...\n",
              "89822                    1  ...           0.000570\n",
              "89126                    1  ...           0.000219\n",
              "89432                    1  ...           0.000489\n",
              "89311                    1  ...           0.000059\n",
              "89154                    1  ...           0.000011\n",
              "\n",
              "[160 rows x 4 columns]"
            ]
          },
          "metadata": {
            "tags": []
          },
          "execution_count": 26
        }
      ]
    },
    {
      "cell_type": "code",
      "metadata": {
        "id": "oStOjwffi_Ag"
      },
      "source": [
        "nevada_zip_freq.to_csv('/content/drive/MyDrive/Kinesso/nevada_zip_freq.csv')"
      ],
      "execution_count": null,
      "outputs": []
    }
  ]
}